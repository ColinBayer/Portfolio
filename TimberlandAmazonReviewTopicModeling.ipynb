{
 "cells": [
  {
   "cell_type": "markdown",
   "metadata": {},
   "source": [
    "## Timberland Topic Modeling Analysis "
   ]
  },
  {
   "cell_type": "markdown",
   "metadata": {},
   "source": [
    "### Using advance clustering techniques to segment amazon.com review data for Timberland."
   ]
  },
  {
   "cell_type": "code",
   "execution_count": 1,
   "metadata": {},
   "outputs": [],
   "source": [
    "from time import sleep\n"
   ]
  },
  {
   "cell_type": "markdown",
   "metadata": {},
   "source": [
    "#### First we will load all clothing, shoes, and jewelery scarpped from amazon.com. "
   ]
  },
  {
   "cell_type": "code",
   "execution_count": null,
   "metadata": {},
   "outputs": [],
   "source": []
  },
  {
   "cell_type": "code",
   "execution_count": null,
   "metadata": {},
   "outputs": [
    {
     "name": "stdout",
     "output_type": "stream",
     "text": [
      "100000\n",
      "200000\n",
      "300000\n",
      "400000\n",
      "500000\n"
     ]
    }
   ],
   "source": [
    "count = 0\n",
    "\n",
    "loadedjson = open('meta_Clothing_Shoes_and_Jewelry.json', 'r')\n",
    "\n",
    "allproducts = {}\n",
    "listofcategories = {}\n",
    "\n",
    "for aline in loadedjson:\n",
    "    count += 1\n",
    "    if count % 100000 == 0:\n",
    "        print(count)\n",
    "    aproduct = eval(aline)\n",
    "    \n",
    "    allproducts[aproduct['asin']] = aproduct\n",
    "    \n",
    "    for categories in aproduct['categories']:\n",
    "        for acategory in categories:\n",
    "            if acategory in listofcategories:\n",
    "                listofcategories[acategory] += 1\n",
    "            if acategory not in listofcategories:\n",
    "                listofcategories[acategory] = 1"
   ]
  },
  {
   "cell_type": "markdown",
   "metadata": {},
   "source": [
    "### Next we will run a for loop the data and create a list of Asins that are only associated with Timberland products."
   ]
  },
  {
   "cell_type": "code",
   "execution_count": null,
   "metadata": {},
   "outputs": [],
   "source": [
    "#############  Segment Data to Find Timberland Asins ##########\n",
    "                           \n",
    "count = 0 \n",
    "allTimbasins = set()    \n",
    "\n",
    "for aproduct in allproducts:\n",
    "    theproduct = allproducts[aproduct]\n",
    "    count += 1\n",
    "    if count % 100000 == 0:\n",
    "        print(count/1503384)\n",
    "    for categories in theproduct['categories']:\n",
    "        for acategory in categories:\n",
    "            if 'timberland' in acategory.lower():\n",
    "                allTimbasins.add(theproduct['asin'])\n",
    "\n",
    "listOfTimbAsins = list(allTimbasins)\n",
    "\n",
    "len(allTimbasins)"
   ]
  },
  {
   "cell_type": "code",
   "execution_count": null,
   "metadata": {},
   "outputs": [],
   "source": []
  },
  {
   "cell_type": "markdown",
   "metadata": {},
   "source": [
    "### Next using our Timberland Asins, we will go through the amazon reviews and create a list of only reviews that have a Timberland Asin."
   ]
  },
  {
   "cell_type": "code",
   "execution_count": null,
   "metadata": {},
   "outputs": [],
   "source": [
    "loadedjson = open('reviews_Clothing_Shoes_and_Jewelry.json', 'r')\n",
    "allreviews = {}\n",
    "\n",
    "count = 0\n",
    "\n",
    "for aline in loadedjson:\n",
    "    count += 1\n",
    "    if count % 100000 == 0:\n",
    "        print(count)\n",
    "    areview= eval(aline)\n",
    "    theasin = areview['asin']\n",
    "    thereviewer = areview['reviewerID']\n",
    "    \n",
    "    if theasin in allTimbasins:\n",
    "        thekey = '%s.%s' % (theasin, thereviewer)\n",
    "        allreviews[thekey] = areview\n",
    "        \n",
    "len(allreviews)"
   ]
  },
  {
   "cell_type": "code",
   "execution_count": null,
   "metadata": {},
   "outputs": [],
   "source": []
  },
  {
   "cell_type": "markdown",
   "metadata": {},
   "source": [
    "#### Load all packeges necessary for analysis as well as all english stopwords (common words that we gain no insight from e.g. \"the\")."
   ]
  },
  {
   "cell_type": "code",
   "execution_count": 2,
   "metadata": {},
   "outputs": [
    {
     "name": "stderr",
     "output_type": "stream",
     "text": [
      "[nltk_data] Downloading package stopwords to\n",
      "[nltk_data]     /home/coba0851/nltk_data...\n",
      "[nltk_data]   Package stopwords is already up-to-date!\n"
     ]
    },
    {
     "data": {
      "text/plain": [
       "28326"
      ]
     },
     "execution_count": 2,
     "metadata": {},
     "output_type": "execute_result"
    }
   ],
   "source": [
    "################# Segment the review text looking for stop words and english Language ##############\n",
    "\n",
    "\n",
    "import json\n",
    "import nltk\n",
    "nltk.download('stopwords')\n",
    "from nltk.corpus import stopwords\n",
    "from sklearn.feature_extraction.text import TfidfVectorizer\n",
    "from sklearn.cluster import KMeans\n",
    "from sklearn import metrics\n",
    "\n",
    "from scipy.spatial.distance import cdist\n",
    "import numpy as np\n",
    "import matplotlib.pyplot as plt\n",
    "from googletrans import Translator\n",
    "from time import sleep\n",
    "from scipy.spatial.distance import euclidean\n",
    "from textblob import TextBlob\n",
    "import langid as lid\n",
    "import goslate\n",
    "\n",
    "allreviews = json.load(open('allTimbReviews.json', 'r'))\n",
    "len(allreviews)"
   ]
  },
  {
   "cell_type": "markdown",
   "metadata": {},
   "source": [
    "#### Ad \"timberland\" to our stopword list as it will appear in many of the reviews but we can not gain any insight from."
   ]
  },
  {
   "cell_type": "markdown",
   "metadata": {},
   "source": [
    "#### Create function that goes through each element of a list, and through a nested dictionary with each aspect of a amazon review (stars, reviewers profile, review text, etc.)  is a key in the dictionary and specifcally looks for reviewText key and appends that to a set."
   ]
  },
  {
   "cell_type": "code",
   "execution_count": 3,
   "metadata": {},
   "outputs": [],
   "source": [
    "stop_words = stopwords.words('english')\n",
    "stop_words.append('timberland')\n",
    "\n",
    "import langid as lid\n",
    "\n",
    "texts = set()\n",
    "def load_texts(topicdata):\n",
    "    for areview in topicdata:\n",
    "        if 'reviewText' in topicdata[areview]:\n",
    "            reviewtext =  topicdata[areview]['reviewText']\n",
    "            lan,score = lid.classify(reviewtext)\n",
    "            if lan == 'en':\n",
    "                summary =  topicdata[areview]['summary']\n",
    "                asin =  topicdata[areview]['asin']\n",
    "                review = '%s %s %s' % (asin, summary, reviewtext)\n",
    "                texts.add(review)"
   ]
  },
  {
   "cell_type": "code",
   "execution_count": null,
   "metadata": {},
   "outputs": [],
   "source": []
  },
  {
   "cell_type": "markdown",
   "metadata": {},
   "source": [
    "### Load Texts"
   ]
  },
  {
   "cell_type": "code",
   "execution_count": 4,
   "metadata": {},
   "outputs": [
    {
     "name": "stdout",
     "output_type": "stream",
     "text": [
      "loading texts\n"
     ]
    }
   ],
   "source": [
    "print('loading texts')         \n",
    "load_texts(allreviews)   \n",
    "\n",
    "documents = list(texts)\n",
    "\n",
    "vectorizer = TfidfVectorizer(stop_words = stop_words)\n",
    "X = vectorizer.fit_transform(documents)"
   ]
  },
  {
   "cell_type": "code",
   "execution_count": null,
   "metadata": {},
   "outputs": [],
   "source": []
  },
  {
   "cell_type": "markdown",
   "metadata": {},
   "source": [
    "###3 Using k-means method, create clusters from the Timberland reviews."
   ]
  },
  {
   "cell_type": "code",
   "execution_count": 5,
   "metadata": {},
   "outputs": [
    {
     "name": "stdout",
     "output_type": "stream",
     "text": [
      "0: good quality price boots\n",
      "1: boots great love comfortable\n",
      "2: shoes comfortable great fit\n",
      "3: boot great boots comfortable\n",
      "4: pair boots years second\n",
      "5: sandals b005fi1ve6 sandal great\n",
      "6: great boots comfortable like\n",
      "7: socks wear thick boots\n",
      "8: size small boots ordered\n",
      "9: stars five four good\n",
      "10: shoe great comfortable shoes\n",
      "11: steel toe boots work\n",
      "12: 34 boots boot fit\n",
      "13: best ever boots owned\n",
      "14: excellent quality boots product\n"
     ]
    }
   ],
   "source": [
    "from sklearn.cluster import KMeans\n",
    "\n",
    "\n",
    "true_k = 15\n",
    "\n",
    "model = KMeans(n_clusters=true_k, max_iter= 100000)\n",
    "model.fit(X)\n",
    "\n",
    "order_centroids = model.cluster_centers_.argsort()[:,::-1]\n",
    "\n",
    "terms = vectorizer.get_feature_names()\n",
    "\n",
    "for i in range(true_k):\n",
    "    topic_terms = [terms[ind] for ind in order_centroids[i, :4]]\n",
    "    print('%d: %s' % (i, ' '.join(topic_terms)))"
   ]
  },
  {
   "cell_type": "code",
   "execution_count": null,
   "metadata": {},
   "outputs": [],
   "source": []
  },
  {
   "cell_type": "markdown",
   "metadata": {},
   "source": [
    "#### Creeat directory with the clusters as topic segment and place each timberland review to its approriate segment.  From here deep dive in the segments and look at the texts to gain insight on Timberlands product and what people are saying about it.  From herewe can look at the segments topics as well as the reviews in the segments and change the amount of clusters to the optimal amount."
   ]
  },
  {
   "cell_type": "code",
   "execution_count": 6,
   "metadata": {},
   "outputs": [
    {
     "name": "stdout",
     "output_type": "stream",
     "text": [
      "Successfully created the directory\n"
     ]
    }
   ],
   "source": [
    "import os\n",
    "outfiles = {} \n",
    "\n",
    "try:\n",
    "    os.mkdir('output')\n",
    "\n",
    "except OSError:\n",
    "    print('directory already exsists')\n",
    "\n",
    "else:\n",
    "    print('Successfully created the directory')\n",
    "    \n",
    "for atopic in range(true_k):\n",
    "    topicterms = [terms[ind] for ind in order_centroids[atopic, :4]]\n",
    "    outfiles[atopic] = open(os.path.join('output', '_'.join(topicterms) + '.txt'), 'w')\n",
    "    \n",
    "for areview in allreviews:\n",
    "    if 'reviewText' in allreviews[areview]:\n",
    "        thereview = allreviews[areview]\n",
    "        reviewwithmetadata = '%s %s %s' % (thereview['asin'], thereview['summary'], thereview['reviewText'])\n",
    "        Y = vectorizer.transform([reviewwithmetadata])\n",
    "   \n",
    "        for prediction in model.predict(Y):\n",
    "            outfiles[prediction].write('%s\\n' % reviewwithmetadata)\n",
    "            \n",
    "for n, f in outfiles.items():\n",
    "    f.close()"
   ]
  },
  {
   "cell_type": "markdown",
   "metadata": {},
   "source": [
    "### Elbow plot to determine optimal amount of clusters"
   ]
  },
  {
   "cell_type": "markdown",
   "metadata": {},
   "source": [
    "#### Another method to determine the optimal amount of clusters is the elbow method, where we plot the the number of clusters (K) against the WCSS (Within cluster some of squares). The goal of cluster analysis is to try and minimize the distance in clusters and maxmize the distance between cluters.  The elbow method hopefully shows a kink or \"elbow\" where the optimal-K is.  Based on our plot though there seems to be no elbow.  The only two points that have any sort of kink are at k= 2 and k=6. It may be more efficent to use other methods to determine the optimal amount of clusters."
   ]
  },
  {
   "cell_type": "code",
   "execution_count": 7,
   "metadata": {},
   "outputs": [
    {
     "data": {
      "image/png": "[encoded data removed]",
      "text/plain": [
       "<Figure size 432x288 with 1 Axes>"
      ]
     },
     "metadata": {
      "needs_background": "light"
     },
     "output_type": "display_data"
    }
   ],
   "source": [
    "##### Elbow meethod Graph ######\n",
    "wcss = []\n",
    "for i in range(1,11):\n",
    "    kmeans = KMeans(n_clusters=i,init='k-means++',max_iter=300,n_init=10,random_state=0)\n",
    "    kmeans.fit(X)\n",
    "    wcss.append(kmeans.inertia_)\n",
    "plt.plot(range(1,11),wcss)\n",
    "plt.title('The Elbow Method')\n",
    "plt.xlabel('Number of clusters')\n",
    "plt.ylabel('WCSS')\n",
    "plt.savefig('elbow.png')\n",
    "plt.show()"
   ]
  },
  {
   "cell_type": "markdown",
   "metadata": {},
   "source": [
    "### The graph shows that there is no elbow or kink and thus thus use other methods such as exploring the reviews in the segments and seeing if their placement makes sence (Actionable, substaional and differentiable). "
   ]
  },
  {
   "cell_type": "code",
   "execution_count": null,
   "metadata": {},
   "outputs": [],
   "source": []
  }
 ],
 "metadata": {
  "kernelspec": {
   "display_name": "Python 3",
   "language": "python",
   "name": "python3"
  },
  "language_info": {
   "codemirror_mode": {
    "name": "ipython",
    "version": 3
   },
   "file_extension": ".py",
   "mimetype": "text/x-python",
   "name": "python",
   "nbconvert_exporter": "python",
   "pygments_lexer": "ipython3",
   "version": "3.6.7"
  }
 },
 "nbformat": 4,
 "nbformat_minor": 2
}
